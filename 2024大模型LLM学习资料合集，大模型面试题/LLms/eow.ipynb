{
 "cells": [
  {
   "cell_type": "code",
   "execution_count": null,
   "metadata": {},
   "outputs": [],
   "source": []
  },
  {
   "cell_type": "markdown",
   "metadata": {},
   "source": [
    "# 项目\n",
    "旅游智伴机器人--RAG\n",
    "\n",
    "项目背景\n",
    "游客在行前和行中有大量的旅游问题需要快速解答。为了提升游客的整体旅游体验，我们开发了一个基于RAG（Retrieval-Augmented Generation）的智能问答系统。该系统通过结合向量检索和传统BM25检索，从丰富的旅游数据中高效检索信息，生成高质量的回复，帮助游客获取景点信息、行程规划等相关建议。\n",
    "\n",
    "主要职责\n",
    "设计并实现了RAG系统中关键的文本分块和检索模块。首先，基于multi-agent思想（包括QA抽取agent、迭代反思agent和优化agent），从每篇游记中自动抽取3个高质量问题，确保系统回答的实用性。对于景点信息文档，采用了递归分块和原子命题两种语义分割方法，以获取嵌入的文本块，从而优化知识的覆盖面。在模型选择上，通过对MTEB排行榜上多个顶尖向量模型的对比测试，最终选择了中英双榜第一的gte-qwen2-7b-Instruct模型，并成功部署在GPU服务器上。抽取的QA对和分割后的文本块被存入Milvus向量库，以支持后续的高效语义检索。为提升检索效果，采用了向量检索与BM25检索的混合策略，确保精准召回相似文本块，最终实现了recall@5达到95%的高性能表现。同时，通过使用BGE-Reranker对召回的上下文进行重排序，进一步提升了检索内容与用户查询的相关性。在系统评估方面，设计了基于LLM评分模型的评估提示词，借助LLM-as-a-Judge的思想，从正确性、完整性和易读性三个维度对RAG系统进行了端到端的效果评估，确保答案的质量与一致性。"
   ]
  },
  {
   "cell_type": "markdown",
   "metadata": {},
   "source": [
    "# 项目\n",
    "旅游智伴机器人--搜索\n",
    "\n",
    "项目背景  \n",
    "在处理实时信息与细分领域知识时，大语言模型存在天然局限性，无法访问最新的外部信息，且难以覆盖所有专业领域。为弥补这一缺陷，项目采用了基于RAG的搜索引擎方案，结合实时检索与生成式问答，相比于模型微调，确保系统能够动态获取最新的外部信息并提供精准的旅游相关服务。\n",
    "\n",
    "主要职责  \n",
    "设计并实现了搜索模块的query改写、意图识别和检索系统。首先，基于self-consistency策略设计了多轮对话的query改写系统，通过智能提示词改写用户query，确保检索结果更贴合用户需求并提高答案的实用性。引入意图识别模块，针对不同的用户意图（如景点推荐、路线规划等）设计了定制化提示词，从而显著提升了问答生成的准确性与多样性。为确保信息的时效性与可靠性，系统集成了Bing搜索引擎，基于GPT4o生成了500个旅游行业常见问题，并对1W+网页进行了语义检索。基于域名频次倒排分析，筛选出权威信息源，确保检索内容的可信度。对检索到的网页内容，系统采用了递归分块技术进行语义分割，并利用BGE-Reranker对文本块进行重排序，确保生成回答与用户query的上下文高度相关。此外，项目引入了Self-RAG策略，对检索内容进行自动评估，判断其是否适合生成回答，从而增强了系统生成内容的多样性与精准度。通过多项改进，最终实现了更高效、更可靠的旅游信息服务体验，shallow search和deep search端到端延时分别达到2.5s和5s以内。"
   ]
  },
  {
   "cell_type": "markdown",
   "metadata": {},
   "source": []
  },
  {
   "cell_type": "markdown",
   "metadata": {},
   "source": []
  },
  {
   "cell_type": "markdown",
   "metadata": {},
   "source": []
  },
  {
   "cell_type": "markdown",
   "metadata": {},
   "source": []
  },
  {
   "cell_type": "code",
   "execution_count": null,
   "metadata": {},
   "outputs": [],
   "source": []
  },
  {
   "cell_type": "code",
   "execution_count": null,
   "metadata": {},
   "outputs": [],
   "source": []
  },
  {
   "cell_type": "code",
   "execution_count": null,
   "metadata": {},
   "outputs": [],
   "source": []
  },
  {
   "cell_type": "code",
   "execution_count": null,
   "metadata": {},
   "outputs": [],
   "source": []
  },
  {
   "cell_type": "code",
   "execution_count": null,
   "metadata": {},
   "outputs": [],
   "source": []
  }
 ],
 "metadata": {
  "language_info": {
   "name": "python"
  }
 },
 "nbformat": 4,
 "nbformat_minor": 2
}
